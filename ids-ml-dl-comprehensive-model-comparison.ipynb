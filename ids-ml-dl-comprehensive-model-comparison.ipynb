{
 "cells": [
  {
   "cell_type": "code",
   "execution_count": 3,
   "id": "04e67036",
   "metadata": {
    "_cell_guid": "b1076dfc-b9ad-4769-8c92-a6c4dae69d19",
    "_uuid": "8f2839f25d086af736a60e9eeb907d3b93b6e0e5",
    "execution": {
     "iopub.execute_input": "2022-05-01T17:15:23.560991Z",
     "iopub.status.busy": "2022-05-01T17:15:23.560260Z",
     "iopub.status.idle": "2022-05-01T17:15:23.584357Z",
     "shell.execute_reply": "2022-05-01T17:15:23.583209Z"
    },
    "papermill": {
     "duration": 0.056758,
     "end_time": "2022-05-01T17:15:23.586964",
     "exception": false,
     "start_time": "2022-05-01T17:15:23.530206",
     "status": "completed"
    },
    "tags": []
   },
   "outputs": [],
   "source": [
    "# This Python 3 environment comes with many helpful analytics libraries installed\n",
    "# It is defined by the kaggle/python Docker image: https://github.com/kaggle/docker-python\n",
    "# For example, here's several helpful packages to load\n",
    "\n",
    "import numpy as np # linear algebra\n",
    "import pandas as pd # data processing, CSV file I/O (e.g. pd.read_csv)\n",
    "\n",
    "# Input data files are available in the read-only \"../input/\" directory\n",
    "# For example, running this (by clicking run or pressing Shift+Enter) will list all files under the input directory\n",
    "\n",
    "import os\n",
    "for dirname, _, filenames in os.walk('/kaggle/input'):\n",
    "    for filename in filenames:\n",
    "        print(os.path.join(dirname, filename))\n",
    "\n",
    "# You can write up to 20GB to the current directory (/kaggle/working/) that gets preserved as output when you create a version using \"Save & Run All\" \n",
    "# You can also write temporary files to /kaggle/temp/, but they won't be saved outside of the current session"
   ]
  },
  {
   "cell_type": "code",
   "execution_count": 4,
   "id": "a679e721",
   "metadata": {
    "execution": {
     "iopub.execute_input": "2022-05-01T17:15:23.645879Z",
     "iopub.status.busy": "2022-05-01T17:15:23.645179Z",
     "iopub.status.idle": "2022-05-01T17:15:24.799403Z",
     "shell.execute_reply": "2022-05-01T17:15:24.798113Z"
    },
    "papermill": {
     "duration": 1.185147,
     "end_time": "2022-05-01T17:15:24.801873",
     "exception": false,
     "start_time": "2022-05-01T17:15:23.616726",
     "status": "completed"
    },
    "tags": []
   },
   "outputs": [],
   "source": [
    "import numpy as np\n",
    "import matplotlib.pyplot as plt\n",
    "import pandas as pd \n",
    "import seaborn as sns"
   ]
  },
  {
   "cell_type": "code",
   "execution_count": 5,
   "id": "00bb5022",
   "metadata": {
    "execution": {
     "iopub.execute_input": "2022-05-01T17:15:24.859082Z",
     "iopub.status.busy": "2022-05-01T17:15:24.858761Z",
     "iopub.status.idle": "2022-05-01T17:15:25.060958Z",
     "shell.execute_reply": "2022-05-01T17:15:25.060132Z"
    },
    "papermill": {
     "duration": 0.232945,
     "end_time": "2022-05-01T17:15:25.063176",
     "exception": false,
     "start_time": "2022-05-01T17:15:24.830231",
     "status": "completed"
    },
    "tags": []
   },
   "outputs": [
    {
     "data": {
      "text/html": [
       "<div>\n",
       "<style scoped>\n",
       "    .dataframe tbody tr th:only-of-type {\n",
       "        vertical-align: middle;\n",
       "    }\n",
       "\n",
       "    .dataframe tbody tr th {\n",
       "        vertical-align: top;\n",
       "    }\n",
       "\n",
       "    .dataframe thead th {\n",
       "        text-align: right;\n",
       "    }\n",
       "</style>\n",
       "<table border=\"1\" class=\"dataframe\">\n",
       "  <thead>\n",
       "    <tr style=\"text-align: right;\">\n",
       "      <th></th>\n",
       "      <th>duration</th>\n",
       "      <th>protocol_type</th>\n",
       "      <th>service</th>\n",
       "      <th>flag</th>\n",
       "      <th>src_bytes</th>\n",
       "      <th>dst_bytes</th>\n",
       "      <th>land</th>\n",
       "      <th>wrong_fragment</th>\n",
       "      <th>urgent</th>\n",
       "      <th>hot</th>\n",
       "      <th>...</th>\n",
       "      <th>dst_host_srv_count</th>\n",
       "      <th>dst_host_same_srv_rate</th>\n",
       "      <th>dst_host_diff_srv_rate</th>\n",
       "      <th>dst_host_same_src_port_rate</th>\n",
       "      <th>dst_host_srv_diff_host_rate</th>\n",
       "      <th>dst_host_serror_rate</th>\n",
       "      <th>dst_host_srv_serror_rate</th>\n",
       "      <th>dst_host_rerror_rate</th>\n",
       "      <th>dst_host_srv_rerror_rate</th>\n",
       "      <th>class</th>\n",
       "    </tr>\n",
       "  </thead>\n",
       "  <tbody>\n",
       "    <tr>\n",
       "      <th>0</th>\n",
       "      <td>0</td>\n",
       "      <td>tcp</td>\n",
       "      <td>ftp_data</td>\n",
       "      <td>SF</td>\n",
       "      <td>491</td>\n",
       "      <td>0</td>\n",
       "      <td>0</td>\n",
       "      <td>0</td>\n",
       "      <td>0</td>\n",
       "      <td>0</td>\n",
       "      <td>...</td>\n",
       "      <td>25</td>\n",
       "      <td>0.17</td>\n",
       "      <td>0.03</td>\n",
       "      <td>0.17</td>\n",
       "      <td>0.00</td>\n",
       "      <td>0.00</td>\n",
       "      <td>0.00</td>\n",
       "      <td>0.05</td>\n",
       "      <td>0.00</td>\n",
       "      <td>normal</td>\n",
       "    </tr>\n",
       "    <tr>\n",
       "      <th>1</th>\n",
       "      <td>0</td>\n",
       "      <td>udp</td>\n",
       "      <td>other</td>\n",
       "      <td>SF</td>\n",
       "      <td>146</td>\n",
       "      <td>0</td>\n",
       "      <td>0</td>\n",
       "      <td>0</td>\n",
       "      <td>0</td>\n",
       "      <td>0</td>\n",
       "      <td>...</td>\n",
       "      <td>1</td>\n",
       "      <td>0.00</td>\n",
       "      <td>0.60</td>\n",
       "      <td>0.88</td>\n",
       "      <td>0.00</td>\n",
       "      <td>0.00</td>\n",
       "      <td>0.00</td>\n",
       "      <td>0.00</td>\n",
       "      <td>0.00</td>\n",
       "      <td>normal</td>\n",
       "    </tr>\n",
       "    <tr>\n",
       "      <th>2</th>\n",
       "      <td>0</td>\n",
       "      <td>tcp</td>\n",
       "      <td>private</td>\n",
       "      <td>S0</td>\n",
       "      <td>0</td>\n",
       "      <td>0</td>\n",
       "      <td>0</td>\n",
       "      <td>0</td>\n",
       "      <td>0</td>\n",
       "      <td>0</td>\n",
       "      <td>...</td>\n",
       "      <td>26</td>\n",
       "      <td>0.10</td>\n",
       "      <td>0.05</td>\n",
       "      <td>0.00</td>\n",
       "      <td>0.00</td>\n",
       "      <td>1.00</td>\n",
       "      <td>1.00</td>\n",
       "      <td>0.00</td>\n",
       "      <td>0.00</td>\n",
       "      <td>anomaly</td>\n",
       "    </tr>\n",
       "    <tr>\n",
       "      <th>3</th>\n",
       "      <td>0</td>\n",
       "      <td>tcp</td>\n",
       "      <td>http</td>\n",
       "      <td>SF</td>\n",
       "      <td>232</td>\n",
       "      <td>8153</td>\n",
       "      <td>0</td>\n",
       "      <td>0</td>\n",
       "      <td>0</td>\n",
       "      <td>0</td>\n",
       "      <td>...</td>\n",
       "      <td>255</td>\n",
       "      <td>1.00</td>\n",
       "      <td>0.00</td>\n",
       "      <td>0.03</td>\n",
       "      <td>0.04</td>\n",
       "      <td>0.03</td>\n",
       "      <td>0.01</td>\n",
       "      <td>0.00</td>\n",
       "      <td>0.01</td>\n",
       "      <td>normal</td>\n",
       "    </tr>\n",
       "    <tr>\n",
       "      <th>4</th>\n",
       "      <td>0</td>\n",
       "      <td>tcp</td>\n",
       "      <td>http</td>\n",
       "      <td>SF</td>\n",
       "      <td>199</td>\n",
       "      <td>420</td>\n",
       "      <td>0</td>\n",
       "      <td>0</td>\n",
       "      <td>0</td>\n",
       "      <td>0</td>\n",
       "      <td>...</td>\n",
       "      <td>255</td>\n",
       "      <td>1.00</td>\n",
       "      <td>0.00</td>\n",
       "      <td>0.00</td>\n",
       "      <td>0.00</td>\n",
       "      <td>0.00</td>\n",
       "      <td>0.00</td>\n",
       "      <td>0.00</td>\n",
       "      <td>0.00</td>\n",
       "      <td>normal</td>\n",
       "    </tr>\n",
       "  </tbody>\n",
       "</table>\n",
       "<p>5 rows × 42 columns</p>\n",
       "</div>"
      ],
      "text/plain": [
       "   duration protocol_type   service flag  src_bytes  dst_bytes  land  \\\n",
       "0         0           tcp  ftp_data   SF        491          0     0   \n",
       "1         0           udp     other   SF        146          0     0   \n",
       "2         0           tcp   private   S0          0          0     0   \n",
       "3         0           tcp      http   SF        232       8153     0   \n",
       "4         0           tcp      http   SF        199        420     0   \n",
       "\n",
       "   wrong_fragment  urgent  hot  ...  dst_host_srv_count  \\\n",
       "0               0       0    0  ...                  25   \n",
       "1               0       0    0  ...                   1   \n",
       "2               0       0    0  ...                  26   \n",
       "3               0       0    0  ...                 255   \n",
       "4               0       0    0  ...                 255   \n",
       "\n",
       "   dst_host_same_srv_rate  dst_host_diff_srv_rate  \\\n",
       "0                    0.17                    0.03   \n",
       "1                    0.00                    0.60   \n",
       "2                    0.10                    0.05   \n",
       "3                    1.00                    0.00   \n",
       "4                    1.00                    0.00   \n",
       "\n",
       "   dst_host_same_src_port_rate  dst_host_srv_diff_host_rate  \\\n",
       "0                         0.17                         0.00   \n",
       "1                         0.88                         0.00   \n",
       "2                         0.00                         0.00   \n",
       "3                         0.03                         0.04   \n",
       "4                         0.00                         0.00   \n",
       "\n",
       "   dst_host_serror_rate  dst_host_srv_serror_rate  dst_host_rerror_rate  \\\n",
       "0                  0.00                      0.00                  0.05   \n",
       "1                  0.00                      0.00                  0.00   \n",
       "2                  1.00                      1.00                  0.00   \n",
       "3                  0.03                      0.01                  0.00   \n",
       "4                  0.00                      0.00                  0.00   \n",
       "\n",
       "   dst_host_srv_rerror_rate    class  \n",
       "0                      0.00   normal  \n",
       "1                      0.00   normal  \n",
       "2                      0.00  anomaly  \n",
       "3                      0.01   normal  \n",
       "4                      0.00   normal  \n",
       "\n",
       "[5 rows x 42 columns]"
      ]
     },
     "execution_count": 5,
     "metadata": {},
     "output_type": "execute_result"
    }
   ],
   "source": [
    "dataset = pd.read_csv(\"Train_data.csv\")\n",
    "dataset.head()"
   ]
  },
  {
   "cell_type": "code",
   "execution_count": 6,
   "id": "00e25298",
   "metadata": {
    "execution": {
     "iopub.execute_input": "2022-05-01T17:15:25.125111Z",
     "iopub.status.busy": "2022-05-01T17:15:25.124615Z",
     "iopub.status.idle": "2022-05-01T17:15:25.131034Z",
     "shell.execute_reply": "2022-05-01T17:15:25.130007Z"
    },
    "papermill": {
     "duration": 0.042231,
     "end_time": "2022-05-01T17:15:25.135662",
     "exception": false,
     "start_time": "2022-05-01T17:15:25.093431",
     "status": "completed"
    },
    "tags": []
   },
   "outputs": [
    {
     "name": "stdout",
     "output_type": "stream",
     "text": [
      "Training data has 25192 rows & 42 columns\n"
     ]
    }
   ],
   "source": [
    "print(\"Training data has {} rows & {} columns\".format(dataset.shape[0],dataset.shape[1]))"
   ]
  },
  {
   "cell_type": "code",
   "execution_count": 7,
   "id": "eada1756",
   "metadata": {
    "execution": {
     "iopub.execute_input": "2022-05-01T17:15:25.199124Z",
     "iopub.status.busy": "2022-05-01T17:15:25.197870Z",
     "iopub.status.idle": "2022-05-01T17:15:25.232221Z",
     "shell.execute_reply": "2022-05-01T17:15:25.231387Z"
    },
    "papermill": {
     "duration": 0.06655,
     "end_time": "2022-05-01T17:15:25.234345",
     "exception": false,
     "start_time": "2022-05-01T17:15:25.167795",
     "status": "completed"
    },
    "tags": []
   },
   "outputs": [
    {
     "data": {
      "text/html": [
       "<div>\n",
       "<style scoped>\n",
       "    .dataframe tbody tr th:only-of-type {\n",
       "        vertical-align: middle;\n",
       "    }\n",
       "\n",
       "    .dataframe tbody tr th {\n",
       "        vertical-align: top;\n",
       "    }\n",
       "\n",
       "    .dataframe thead th {\n",
       "        text-align: right;\n",
       "    }\n",
       "</style>\n",
       "<table border=\"1\" class=\"dataframe\">\n",
       "  <thead>\n",
       "    <tr style=\"text-align: right;\">\n",
       "      <th></th>\n",
       "      <th>duration</th>\n",
       "      <th>protocol_type</th>\n",
       "      <th>service</th>\n",
       "      <th>flag</th>\n",
       "      <th>src_bytes</th>\n",
       "      <th>dst_bytes</th>\n",
       "      <th>land</th>\n",
       "      <th>wrong_fragment</th>\n",
       "      <th>urgent</th>\n",
       "      <th>hot</th>\n",
       "      <th>...</th>\n",
       "      <th>dst_host_count</th>\n",
       "      <th>dst_host_srv_count</th>\n",
       "      <th>dst_host_same_srv_rate</th>\n",
       "      <th>dst_host_diff_srv_rate</th>\n",
       "      <th>dst_host_same_src_port_rate</th>\n",
       "      <th>dst_host_srv_diff_host_rate</th>\n",
       "      <th>dst_host_serror_rate</th>\n",
       "      <th>dst_host_srv_serror_rate</th>\n",
       "      <th>dst_host_rerror_rate</th>\n",
       "      <th>dst_host_srv_rerror_rate</th>\n",
       "    </tr>\n",
       "  </thead>\n",
       "  <tbody>\n",
       "    <tr>\n",
       "      <th>0</th>\n",
       "      <td>0</td>\n",
       "      <td>tcp</td>\n",
       "      <td>ftp_data</td>\n",
       "      <td>SF</td>\n",
       "      <td>491</td>\n",
       "      <td>0</td>\n",
       "      <td>0</td>\n",
       "      <td>0</td>\n",
       "      <td>0</td>\n",
       "      <td>0</td>\n",
       "      <td>...</td>\n",
       "      <td>150</td>\n",
       "      <td>25</td>\n",
       "      <td>0.17</td>\n",
       "      <td>0.03</td>\n",
       "      <td>0.17</td>\n",
       "      <td>0.00</td>\n",
       "      <td>0.00</td>\n",
       "      <td>0.00</td>\n",
       "      <td>0.05</td>\n",
       "      <td>0.00</td>\n",
       "    </tr>\n",
       "    <tr>\n",
       "      <th>1</th>\n",
       "      <td>0</td>\n",
       "      <td>udp</td>\n",
       "      <td>other</td>\n",
       "      <td>SF</td>\n",
       "      <td>146</td>\n",
       "      <td>0</td>\n",
       "      <td>0</td>\n",
       "      <td>0</td>\n",
       "      <td>0</td>\n",
       "      <td>0</td>\n",
       "      <td>...</td>\n",
       "      <td>255</td>\n",
       "      <td>1</td>\n",
       "      <td>0.00</td>\n",
       "      <td>0.60</td>\n",
       "      <td>0.88</td>\n",
       "      <td>0.00</td>\n",
       "      <td>0.00</td>\n",
       "      <td>0.00</td>\n",
       "      <td>0.00</td>\n",
       "      <td>0.00</td>\n",
       "    </tr>\n",
       "    <tr>\n",
       "      <th>2</th>\n",
       "      <td>0</td>\n",
       "      <td>tcp</td>\n",
       "      <td>private</td>\n",
       "      <td>S0</td>\n",
       "      <td>0</td>\n",
       "      <td>0</td>\n",
       "      <td>0</td>\n",
       "      <td>0</td>\n",
       "      <td>0</td>\n",
       "      <td>0</td>\n",
       "      <td>...</td>\n",
       "      <td>255</td>\n",
       "      <td>26</td>\n",
       "      <td>0.10</td>\n",
       "      <td>0.05</td>\n",
       "      <td>0.00</td>\n",
       "      <td>0.00</td>\n",
       "      <td>1.00</td>\n",
       "      <td>1.00</td>\n",
       "      <td>0.00</td>\n",
       "      <td>0.00</td>\n",
       "    </tr>\n",
       "    <tr>\n",
       "      <th>3</th>\n",
       "      <td>0</td>\n",
       "      <td>tcp</td>\n",
       "      <td>http</td>\n",
       "      <td>SF</td>\n",
       "      <td>232</td>\n",
       "      <td>8153</td>\n",
       "      <td>0</td>\n",
       "      <td>0</td>\n",
       "      <td>0</td>\n",
       "      <td>0</td>\n",
       "      <td>...</td>\n",
       "      <td>30</td>\n",
       "      <td>255</td>\n",
       "      <td>1.00</td>\n",
       "      <td>0.00</td>\n",
       "      <td>0.03</td>\n",
       "      <td>0.04</td>\n",
       "      <td>0.03</td>\n",
       "      <td>0.01</td>\n",
       "      <td>0.00</td>\n",
       "      <td>0.01</td>\n",
       "    </tr>\n",
       "    <tr>\n",
       "      <th>4</th>\n",
       "      <td>0</td>\n",
       "      <td>tcp</td>\n",
       "      <td>http</td>\n",
       "      <td>SF</td>\n",
       "      <td>199</td>\n",
       "      <td>420</td>\n",
       "      <td>0</td>\n",
       "      <td>0</td>\n",
       "      <td>0</td>\n",
       "      <td>0</td>\n",
       "      <td>...</td>\n",
       "      <td>255</td>\n",
       "      <td>255</td>\n",
       "      <td>1.00</td>\n",
       "      <td>0.00</td>\n",
       "      <td>0.00</td>\n",
       "      <td>0.00</td>\n",
       "      <td>0.00</td>\n",
       "      <td>0.00</td>\n",
       "      <td>0.00</td>\n",
       "      <td>0.00</td>\n",
       "    </tr>\n",
       "  </tbody>\n",
       "</table>\n",
       "<p>5 rows × 41 columns</p>\n",
       "</div>"
      ],
      "text/plain": [
       "   duration protocol_type   service flag  src_bytes  dst_bytes  land  \\\n",
       "0         0           tcp  ftp_data   SF        491          0     0   \n",
       "1         0           udp     other   SF        146          0     0   \n",
       "2         0           tcp   private   S0          0          0     0   \n",
       "3         0           tcp      http   SF        232       8153     0   \n",
       "4         0           tcp      http   SF        199        420     0   \n",
       "\n",
       "   wrong_fragment  urgent  hot  ...  dst_host_count  dst_host_srv_count  \\\n",
       "0               0       0    0  ...             150                  25   \n",
       "1               0       0    0  ...             255                   1   \n",
       "2               0       0    0  ...             255                  26   \n",
       "3               0       0    0  ...              30                 255   \n",
       "4               0       0    0  ...             255                 255   \n",
       "\n",
       "   dst_host_same_srv_rate  dst_host_diff_srv_rate  \\\n",
       "0                    0.17                    0.03   \n",
       "1                    0.00                    0.60   \n",
       "2                    0.10                    0.05   \n",
       "3                    1.00                    0.00   \n",
       "4                    1.00                    0.00   \n",
       "\n",
       "   dst_host_same_src_port_rate  dst_host_srv_diff_host_rate  \\\n",
       "0                         0.17                         0.00   \n",
       "1                         0.88                         0.00   \n",
       "2                         0.00                         0.00   \n",
       "3                         0.03                         0.04   \n",
       "4                         0.00                         0.00   \n",
       "\n",
       "   dst_host_serror_rate  dst_host_srv_serror_rate  dst_host_rerror_rate  \\\n",
       "0                  0.00                      0.00                  0.05   \n",
       "1                  0.00                      0.00                  0.00   \n",
       "2                  1.00                      1.00                  0.00   \n",
       "3                  0.03                      0.01                  0.00   \n",
       "4                  0.00                      0.00                  0.00   \n",
       "\n",
       "   dst_host_srv_rerror_rate  \n",
       "0                      0.00  \n",
       "1                      0.00  \n",
       "2                      0.00  \n",
       "3                      0.01  \n",
       "4                      0.00  \n",
       "\n",
       "[5 rows x 41 columns]"
      ]
     },
     "execution_count": 7,
     "metadata": {},
     "output_type": "execute_result"
    }
   ],
   "source": [
    "X = dataset.drop(\"class\", axis=1)\n",
    "Y = dataset[\"class\"]\n",
    "X.head()"
   ]
  },
  {
   "cell_type": "code",
   "execution_count": 8,
   "id": "ccd06e74",
   "metadata": {
    "execution": {
     "iopub.execute_input": "2022-05-01T17:15:25.294315Z",
     "iopub.status.busy": "2022-05-01T17:15:25.294012Z",
     "iopub.status.idle": "2022-05-01T17:15:25.303506Z",
     "shell.execute_reply": "2022-05-01T17:15:25.302829Z"
    },
    "papermill": {
     "duration": 0.041713,
     "end_time": "2022-05-01T17:15:25.305339",
     "exception": false,
     "start_time": "2022-05-01T17:15:25.263626",
     "status": "completed"
    },
    "tags": []
   },
   "outputs": [],
   "source": [
    "X.drop(['num_outbound_cmds','is_host_login'], axis=1, inplace=True)"
   ]
  },
  {
   "cell_type": "code",
   "execution_count": 9,
   "id": "2ab455a7",
   "metadata": {
    "execution": {
     "iopub.execute_input": "2022-05-01T17:15:25.367668Z",
     "iopub.status.busy": "2022-05-01T17:15:25.367319Z",
     "iopub.status.idle": "2022-05-01T17:15:25.795768Z",
     "shell.execute_reply": "2022-05-01T17:15:25.794814Z"
    },
    "papermill": {
     "duration": 0.461583,
     "end_time": "2022-05-01T17:15:25.798131",
     "exception": false,
     "start_time": "2022-05-01T17:15:25.336548",
     "status": "completed"
    },
    "tags": []
   },
   "outputs": [],
   "source": [
    "from sklearn.impute import SimpleImputer \n",
    "imputer = SimpleImputer(missing_values = np.nan, strategy = 'mean')\n",
    "\n",
    "X_object = X.select_dtypes(\"object\")\n",
    "X_int = X.select_dtypes(exclude = \"object\")\n",
    "\n",
    "X_columns = X_int.columns\n",
    "\n",
    "imputer.fit(X_int)\n",
    "X_int = imputer.transform(X_int)\n",
    "X_int = pd.DataFrame(X_int)\n",
    "X_int.columns = X_columns\n",
    "\n",
    "X_object = X_object.fillna(\"unknown\")\n",
    "X = X_object.join(X_int)"
   ]
  },
  {
   "cell_type": "code",
   "execution_count": 10,
   "id": "88f009c1",
   "metadata": {
    "execution": {
     "iopub.execute_input": "2022-05-01T17:15:25.858630Z",
     "iopub.status.busy": "2022-05-01T17:15:25.857847Z",
     "iopub.status.idle": "2022-05-01T17:15:25.875009Z",
     "shell.execute_reply": "2022-05-01T17:15:25.874157Z"
    },
    "papermill": {
     "duration": 0.049569,
     "end_time": "2022-05-01T17:15:25.876877",
     "exception": false,
     "start_time": "2022-05-01T17:15:25.827308",
     "status": "completed"
    },
    "tags": []
   },
   "outputs": [
    {
     "data": {
      "text/plain": [
       "0        1\n",
       "1        1\n",
       "2        0\n",
       "3        1\n",
       "4        1\n",
       "        ..\n",
       "25187    0\n",
       "25188    0\n",
       "25189    0\n",
       "25190    0\n",
       "25191    0\n",
       "Length: 25192, dtype: int32"
      ]
     },
     "execution_count": 10,
     "metadata": {},
     "output_type": "execute_result"
    }
   ],
   "source": [
    "from sklearn.preprocessing import LabelEncoder\n",
    "LE = LabelEncoder()\n",
    "Y = LE.fit_transform(Y)\n",
    "Y = pd.Series(Y)\n",
    "Y"
   ]
  },
  {
   "cell_type": "code",
   "execution_count": 11,
   "id": "824916c9",
   "metadata": {
    "execution": {
     "iopub.execute_input": "2022-05-01T17:15:25.937767Z",
     "iopub.status.busy": "2022-05-01T17:15:25.937444Z",
     "iopub.status.idle": "2022-05-01T17:15:26.555774Z",
     "shell.execute_reply": "2022-05-01T17:15:26.554806Z"
    },
    "papermill": {
     "duration": 0.651488,
     "end_time": "2022-05-01T17:15:26.557942",
     "exception": false,
     "start_time": "2022-05-01T17:15:25.906454",
     "status": "completed"
    },
    "tags": []
   },
   "outputs": [
    {
     "data": {
      "text/plain": [
       "<AxesSubplot:>"
      ]
     },
     "execution_count": 11,
     "metadata": {},
     "output_type": "execute_result"
    },
    {
     "data": {
      "image/png": "[encoded data removed]",
      "text/plain": [
       "<Figure size 432x288 with 2 Axes>"
      ]
     },
     "metadata": {
      "needs_background": "light"
     },
     "output_type": "display_data"
    }
   ],
   "source": [
    "sns.heatmap(X.corr().apply(abs))"
   ]
  },
  {
   "cell_type": "code",
   "execution_count": 12,
   "id": "f9fc0569",
   "metadata": {
    "execution": {
     "iopub.execute_input": "2022-05-01T17:15:26.623009Z",
     "iopub.status.busy": "2022-05-01T17:15:26.622401Z",
     "iopub.status.idle": "2022-05-01T17:15:26.653851Z",
     "shell.execute_reply": "2022-05-01T17:15:26.653071Z"
    },
    "papermill": {
     "duration": 0.066222,
     "end_time": "2022-05-01T17:15:26.655905",
     "exception": false,
     "start_time": "2022-05-01T17:15:26.589683",
     "status": "completed"
    },
    "tags": []
   },
   "outputs": [
    {
     "data": {
      "text/plain": [
       "logged_in                   0.688084\n",
       "count                       0.578790\n",
       "serror_rate                 0.649952\n",
       "srv_serror_rate             0.647817\n",
       "same_srv_rate               0.749237\n",
       "dst_host_srv_count          0.719292\n",
       "dst_host_same_srv_rate      0.692212\n",
       "dst_host_serror_rate        0.651050\n",
       "dst_host_srv_serror_rate    0.653759\n",
       "dtype: float64"
      ]
     },
     "execution_count": 12,
     "metadata": {},
     "output_type": "execute_result"
    }
   ],
   "source": [
    "corr_with_target = X.corrwith(Y).apply(abs)\n",
    "corr_with_target[corr_with_target>0.5]"
   ]
  },
  {
   "cell_type": "code",
   "execution_count": 13,
   "id": "3c6b4070",
   "metadata": {
    "execution": {
     "iopub.execute_input": "2022-05-01T17:15:26.721670Z",
     "iopub.status.busy": "2022-05-01T17:15:26.721388Z",
     "iopub.status.idle": "2022-05-01T17:15:26.728882Z",
     "shell.execute_reply": "2022-05-01T17:15:26.727947Z"
    },
    "papermill": {
     "duration": 0.042295,
     "end_time": "2022-05-01T17:15:26.730729",
     "exception": false,
     "start_time": "2022-05-01T17:15:26.688434",
     "status": "completed"
    },
    "tags": []
   },
   "outputs": [],
   "source": [
    "class LabelEncoderExt(object):\n",
    "    def __init__(self):\n",
    "        self.label_encoder = LabelEncoder()\n",
    "\n",
    "    def fit(self, data):\n",
    "        self.label_encoder = self.label_encoder.fit(list(data) + ['Unknown'])\n",
    "        self.classes_ = self.label_encoder.classes_\n",
    "        return self\n",
    "\n",
    "    def transform(self, data):\n",
    "        new_data = list(data)\n",
    "        for unique_item in np.unique(data):\n",
    "            if unique_item not in self.label_encoder.classes_:\n",
    "                new_data = ['Unknown' if x==unique_item else x for x in new_data]\n",
    "        return self.label_encoder.transform(new_data)"
   ]
  },
  {
   "cell_type": "code",
   "execution_count": 14,
   "id": "de7ece4d",
   "metadata": {
    "execution": {
     "iopub.execute_input": "2022-05-01T17:15:26.795983Z",
     "iopub.status.busy": "2022-05-01T17:15:26.795707Z",
     "iopub.status.idle": "2022-05-01T17:15:27.011659Z",
     "shell.execute_reply": "2022-05-01T17:15:27.010700Z"
    },
    "papermill": {
     "duration": 0.251475,
     "end_time": "2022-05-01T17:15:27.013949",
     "exception": false,
     "start_time": "2022-05-01T17:15:26.762474",
     "status": "completed"
    },
    "tags": []
   },
   "outputs": [],
   "source": [
    "le = LabelEncoderExt()\n",
    "\n",
    "# encode the selected columns\n",
    "for col in X.select_dtypes(\"object\"):\n",
    "  le.fit(X[col])\n",
    "  X[col] = le.transform(X[col])"
   ]
  },
  {
   "cell_type": "code",
   "execution_count": 15,
   "id": "6350d53c",
   "metadata": {
    "execution": {
     "iopub.execute_input": "2022-05-01T17:15:27.080135Z",
     "iopub.status.busy": "2022-05-01T17:15:27.079866Z",
     "iopub.status.idle": "2022-05-01T17:15:27.094340Z",
     "shell.execute_reply": "2022-05-01T17:15:27.093704Z"
    },
    "papermill": {
     "duration": 0.050018,
     "end_time": "2022-05-01T17:15:27.096328",
     "exception": false,
     "start_time": "2022-05-01T17:15:27.046310",
     "status": "completed"
    },
    "tags": []
   },
   "outputs": [],
   "source": [
    "from sklearn.model_selection import train_test_split\n",
    "X_train, X_test, y_train, y_test = train_test_split(X, Y, test_size=0.3, random_state=42)"
   ]
  },
  {
   "cell_type": "code",
   "execution_count": 16,
   "id": "925efda4",
   "metadata": {
    "execution": {
     "iopub.execute_input": "2022-05-01T17:15:27.161761Z",
     "iopub.status.busy": "2022-05-01T17:15:27.161434Z",
     "iopub.status.idle": "2022-05-01T17:15:27.190455Z",
     "shell.execute_reply": "2022-05-01T17:15:27.189570Z"
    },
    "papermill": {
     "duration": 0.0644,
     "end_time": "2022-05-01T17:15:27.192770",
     "exception": false,
     "start_time": "2022-05-01T17:15:27.128370",
     "status": "completed"
    },
    "tags": []
   },
   "outputs": [],
   "source": [
    "from sklearn.preprocessing import StandardScaler\n",
    "scaler = StandardScaler()\n",
    "# store the columns\n",
    "cols = X_train.columns\n",
    "\n",
    "# transform the data\n",
    "X_train_scaled = scaler.fit_transform(X_train)\n",
    "X_test_scaled = scaler.transform(X_test)\n",
    "\n",
    "X_train_scaled = pd.DataFrame(X_train_scaled, columns = cols)\n",
    "X_test_scaled = pd.DataFrame(X_test_scaled, columns = cols)"
   ]
  },
  {
   "cell_type": "code",
   "execution_count": 17,
   "id": "8c807d8d",
   "metadata": {
    "execution": {
     "iopub.execute_input": "2022-05-01T17:15:27.258273Z",
     "iopub.status.busy": "2022-05-01T17:15:27.258004Z",
     "iopub.status.idle": "2022-05-01T17:15:28.597685Z",
     "shell.execute_reply": "2022-05-01T17:15:28.596742Z"
    },
    "papermill": {
     "duration": 1.375352,
     "end_time": "2022-05-01T17:15:28.600064",
     "exception": false,
     "start_time": "2022-05-01T17:15:27.224712",
     "status": "completed"
    },
    "tags": []
   },
   "outputs": [],
   "source": [
    "from sklearn.ensemble import RandomForestClassifier\n",
    "rfc = RandomForestClassifier();\n",
    "\n",
    "rfc.fit(X_train_scaled, y_train)\n",
    "\n",
    "feature_imp = pd.DataFrame({'feature':X_train.columns,'importance':rfc.feature_importances_})\n",
    "feature_imp = feature_imp.sort_values('importance',ascending=False).set_index('feature')"
   ]
  },
  {
   "cell_type": "code",
   "execution_count": 18,
   "id": "9ab8c3a9",
   "metadata": {
    "execution": {
     "iopub.execute_input": "2022-05-01T17:15:28.665773Z",
     "iopub.status.busy": "2022-05-01T17:15:28.665242Z",
     "iopub.status.idle": "2022-05-01T17:15:29.210350Z",
     "shell.execute_reply": "2022-05-01T17:15:29.209559Z"
    },
    "papermill": {
     "duration": 0.580418,
     "end_time": "2022-05-01T17:15:29.212525",
     "exception": false,
     "start_time": "2022-05-01T17:15:28.632107",
     "status": "completed"
    },
    "tags": []
   },
   "outputs": [
    {
     "data": {
      "text/plain": [
       "[<matplotlib.lines.Line2D at 0x1fad02b1070>]"
      ]
     },
     "execution_count": 18,
     "metadata": {},
     "output_type": "execute_result"
    },
    {
     "data": {
      "image/png": "[encoded data removed]",
      "text/plain": [
       "<Figure size 720x360 with 1 Axes>"
      ]
     },
     "metadata": {
      "needs_background": "light"
     },
     "output_type": "display_data"
    }
   ],
   "source": [
    "plt.figure(figsize = (10, 5))\n",
    "plt.title(\"Feature Importance\")\n",
    "plt.ylabel(\"Importances\")\n",
    "plt.xlabel(\"Features\")\n",
    "plt.xticks(rotation=90)\n",
    "plt.plot(feature_imp)"
   ]
  },
  {
   "cell_type": "code",
   "execution_count": 19,
   "id": "efb15fa2",
   "metadata": {
    "execution": {
     "iopub.execute_input": "2022-05-01T17:15:29.281891Z",
     "iopub.status.busy": "2022-05-01T17:15:29.281461Z",
     "iopub.status.idle": "2022-05-01T17:15:55.240129Z",
     "shell.execute_reply": "2022-05-01T17:15:55.239140Z"
    },
    "papermill": {
     "duration": 25.996291,
     "end_time": "2022-05-01T17:15:55.242678",
     "exception": false,
     "start_time": "2022-05-01T17:15:29.246387",
     "status": "completed"
    },
    "tags": []
   },
   "outputs": [],
   "source": [
    "from sklearn.feature_selection import RFE\n",
    "estimator = RandomForestClassifier()\n",
    "selector = RFE(estimator)\n",
    "selector.fit(X_train_scaled, y_train)\n",
    "\n",
    "X_train_scaled = selector.transform(X_train_scaled)\n",
    "X_test_scaled = selector.transform(X_test_scaled)"
   ]
  },
  {
   "cell_type": "code",
   "execution_count": 20,
   "id": "f0d407f5",
   "metadata": {
    "execution": {
     "iopub.execute_input": "2022-05-01T17:15:55.311680Z",
     "iopub.status.busy": "2022-05-01T17:15:55.311368Z",
     "iopub.status.idle": "2022-05-01T17:15:55.393889Z",
     "shell.execute_reply": "2022-05-01T17:15:55.393217Z"
    },
    "papermill": {
     "duration": 0.119576,
     "end_time": "2022-05-01T17:15:55.396094",
     "exception": false,
     "start_time": "2022-05-01T17:15:55.276518",
     "status": "completed"
    },
    "tags": []
   },
   "outputs": [],
   "source": [
    "from sklearn import datasets, metrics, tree, svm, neighbors\n",
    "from sklearn.model_selection import KFold\n",
    "from sklearn.model_selection import cross_val_score\n",
    "from sklearn.model_selection import RepeatedStratifiedKFold\n",
    "from sklearn.model_selection import cross_validate\n",
    "from sklearn.model_selection import train_test_split, GridSearchCV, learning_curve, ShuffleSplit\n",
    "from sklearn.tree import DecisionTreeClassifier\n",
    "\n",
    "from sklearn.naive_bayes import GaussianNB, BernoulliNB, MultinomialNB\n",
    "from sklearn.neighbors import RadiusNeighborsClassifier\n",
    "from sklearn.neighbors import NearestCentroid\n",
    "\n",
    "from sklearn.ensemble import RandomForestClassifier\n",
    "from sklearn.ensemble import GradientBoostingClassifier"
   ]
  },
  {
   "cell_type": "code",
   "execution_count": 21,
   "id": "17531f84",
   "metadata": {
    "execution": {
     "iopub.execute_input": "2022-05-01T17:15:55.465613Z",
     "iopub.status.busy": "2022-05-01T17:15:55.465103Z",
     "iopub.status.idle": "2022-05-01T17:15:56.579814Z",
     "shell.execute_reply": "2022-05-01T17:15:56.578592Z"
    },
    "papermill": {
     "duration": 1.152314,
     "end_time": "2022-05-01T17:15:56.582406",
     "exception": false,
     "start_time": "2022-05-01T17:15:55.430092",
     "status": "completed"
    },
    "tags": []
   },
   "outputs": [],
   "source": [
    "SEED = 42\n",
    "\n",
    "# Decision Tree Model\n",
    "dtc = DecisionTreeClassifier()\n",
    "\n",
    "# SVC MODEL\n",
    "from sklearn.svm import SVC\n",
    "svc = SVC(random_state = SEED)\n",
    "\n",
    "# LOGISTIC REGRESSION MODEL\n",
    "from sklearn.linear_model import LogisticRegression\n",
    "lr = LogisticRegression()\n",
    "\n",
    "# GAUSSIAN NAIVE BAYES\n",
    "gnb = GaussianNB()\n",
    "\n",
    "# BERNOULLI NAIVE BAYES\n",
    "bnb = BernoulliNB()\n",
    "\n",
    "# Train RandomForestClassifier\n",
    "rfe = RandomForestClassifier(max_depth=6)\n",
    "\n",
    "# Train XGBOOST Classifier\n",
    "from xgboost import XGBClassifier\n",
    "xgbc = XGBClassifier(eval_metric=\"logloss\", random_state=SEED)\n",
    "\n",
    "# Train LightGBM Classifier\n",
    "from lightgbm import LGBMClassifier\n",
    "lgbmc = LGBMClassifier(random_state=SEED)\n",
    "\n",
    "# Train Gradient-Boosting Classifier \n",
    "grb = GradientBoostingClassifier(learning_rate=1.1)"
   ]
  },
  {
   "cell_type": "code",
   "execution_count": 22,
   "id": "74700ac8",
   "metadata": {
    "execution": {
     "iopub.execute_input": "2022-05-01T17:15:56.652935Z",
     "iopub.status.busy": "2022-05-01T17:15:56.652658Z",
     "iopub.status.idle": "2022-05-01T17:18:01.464650Z",
     "shell.execute_reply": "2022-05-01T17:18:01.463917Z"
    },
    "papermill": {
     "duration": 124.850068,
     "end_time": "2022-05-01T17:18:01.467155",
     "exception": false,
     "start_time": "2022-05-01T17:15:56.617087",
     "status": "completed"
    },
    "tags": []
   },
   "outputs": [],
   "source": [
    "from sklearn.model_selection import cross_val_score\n",
    "models = {}\n",
    "models['SVC']= svc\n",
    "models['LogisticRegression']= lr\n",
    "models['DecisionTreeClassifier']= dtc\n",
    "models['Gaussian Naive Bayes Classifier']= gnb\n",
    "models['Bernoulli Naive Bayes Classifier']= bnb\n",
    "models['Gradient Boosting Classifier']= grb\n",
    "models['Random Forest Classifier']= rfe\n",
    "models['XGBoost Classifier']= xgbc\n",
    "models['LightGBM Classifier']= lgbmc\n",
    "scores = {}\n",
    "for name in models:\n",
    "  scores[name]={}\n",
    "  for scorer in ['precision','recall']:\n",
    "    scores[name][scorer] = cross_val_score(models[name], X_train_scaled, y_train, cv=10, scoring=scorer)"
   ]
  },
  {
   "cell_type": "code",
   "execution_count": 21,
   "id": "80b33067",
   "metadata": {
    "execution": {
     "iopub.execute_input": "2022-05-01T17:18:01.541888Z",
     "iopub.status.busy": "2022-05-01T17:18:01.541610Z",
     "iopub.status.idle": "2022-05-01T17:18:01.569149Z",
     "shell.execute_reply": "2022-05-01T17:18:01.556118Z"
    },
    "papermill": {
     "duration": 0.066774,
     "end_time": "2022-05-01T17:18:01.571484",
     "exception": false,
     "start_time": "2022-05-01T17:18:01.504710",
     "status": "completed"
    },
    "tags": []
   },
   "outputs": [
    {
     "name": "stdout",
     "output_type": "stream",
     "text": [
      "************************ SVC Model Validation ************************\n",
      "Mean precision: \n",
      " 99.19 % +- 0.23\n",
      "\n",
      "Mean recall: \n",
      " 98.65 % +- 0.45\n",
      "\n",
      "**************** LogisticRegression Model Validation ****************\n",
      "Mean precision: \n",
      " 93.75 % +- 0.89\n",
      "\n",
      "Mean recall: \n",
      " 95.43 % +- 0.56\n",
      "\n",
      "************** DecisionTreeClassifier Model Validation **************\n",
      "Mean precision: \n",
      " 99.54 % +- 0.17\n",
      "\n",
      "Mean recall: \n",
      " 99.55 % +- 0.19\n",
      "\n",
      "********** Gaussian Naive Bayes Classifier Model Validation **********\n",
      "Mean precision: \n",
      " 90.84 % +- 0.91\n",
      "\n",
      "Mean recall: \n",
      " 91.88 % +- 1.08\n",
      "\n",
      "********* Bernoulli Naive Bayes Classifier Model Validation *********\n",
      "Mean precision: \n",
      " 86.8 % +- 0.84\n",
      "\n",
      "Mean recall: \n",
      " 94.53 % +- 1.11\n",
      "\n",
      "*********** Gradient Boosting Classifier Model Validation ***********\n",
      "Mean precision: \n",
      " 99.29 % +- 0.88\n",
      "\n",
      "Mean recall: \n",
      " 99.34 % +- 0.79\n",
      "\n",
      "************* Random Forest Classifier Model Validation *************\n",
      "Mean precision: \n",
      " 98.45 % +- 0.38\n",
      "\n",
      "Mean recall: \n",
      " 99.68 % +- 0.19\n",
      "\n",
      "**************** XGBoost Classifier Model Validation ****************\n",
      "Mean precision: \n",
      " 99.6 % +- 0.17\n",
      "\n",
      "Mean recall: \n",
      " 99.91 % +- 0.06\n",
      "\n",
      "**************** LightGBM Classifier Model Validation ****************\n",
      "Mean precision: \n",
      " 99.64 % +- 0.15\n",
      "\n",
      "Mean recall: \n",
      " 99.88 % +- 0.06\n",
      "\n"
     ]
    }
   ],
   "source": [
    "def line(name):\n",
    "  return '*'*(25-len(name)//2)\n",
    "\n",
    "for name in models:\n",
    "  print(line(name), name, 'Model Validation', line(name))\n",
    "\n",
    "  for scorer in ['precision','recall']:\n",
    "    mean = round(np.mean(scores[name][scorer])*100,2)\n",
    "    stdev = round(np.std(scores[name][scorer])*100,2)\n",
    "    print (\"Mean {}:\".format(scorer),\"\\n\", mean,\"%\", \"+-\",stdev)\n",
    "    print()"
   ]
  },
  {
   "cell_type": "code",
   "execution_count": 22,
   "id": "12523f61",
   "metadata": {
    "execution": {
     "iopub.execute_input": "2022-05-01T17:18:01.643101Z",
     "iopub.status.busy": "2022-05-01T17:18:01.642835Z",
     "iopub.status.idle": "2022-05-01T17:18:01.987459Z",
     "shell.execute_reply": "2022-05-01T17:18:01.986596Z"
    },
    "papermill": {
     "duration": 0.383238,
     "end_time": "2022-05-01T17:18:01.989887",
     "exception": false,
     "start_time": "2022-05-01T17:18:01.606649",
     "status": "completed"
    },
    "tags": []
   },
   "outputs": [
    {
     "data": {
      "text/plain": [
       "<AxesSubplot:>"
      ]
     },
     "execution_count": 22,
     "metadata": {},
     "output_type": "execute_result"
    },
    {
     "data": {
      "image/png": "[encoded data removed]",
      "text/plain": [
       "<Figure size 1728x432 with 1 Axes>"
      ]
     },
     "metadata": {
      "needs_background": "light"
     },
     "output_type": "display_data"
    }
   ],
   "source": [
    "for name in models:\n",
    "    for scorer in ['precision','recall']:\n",
    "        scores[name][scorer] = scores[name][scorer].mean()\n",
    "scores=pd.DataFrame(scores).swapaxes(\"index\", \"columns\")*100\n",
    "scores.plot(kind = \"bar\",  ylim=[80,100], figsize=(24,6), rot=0)"
   ]
  },
  {
   "cell_type": "code",
   "execution_count": 23,
   "id": "b5131ee2",
   "metadata": {
    "execution": {
     "iopub.execute_input": "2022-05-01T17:18:02.065642Z",
     "iopub.status.busy": "2022-05-01T17:18:02.065061Z",
     "iopub.status.idle": "2022-05-01T17:18:09.684469Z",
     "shell.execute_reply": "2022-05-01T17:18:09.682744Z"
    },
    "papermill": {
     "duration": 7.660664,
     "end_time": "2022-05-01T17:18:09.687047",
     "exception": false,
     "start_time": "2022-05-01T17:18:02.026383",
     "status": "completed"
    },
    "tags": []
   },
   "outputs": [
    {
     "name": "stdout",
     "output_type": "stream",
     "text": [
      "Predictions complete.\n"
     ]
    }
   ],
   "source": [
    "models = {}\n",
    "models['SVC']= svc\n",
    "models['LogisticRegression']= lr\n",
    "models['DecisionTreeClassifier']= dtc\n",
    "models['Gaussian Naive Bayes Classifier']= gnb\n",
    "models['Bernoulli Naive Bayes Classifier']= bnb\n",
    "models['Gradient Boosting Classifier']= grb\n",
    "models['Random Forest Classifier']= rfe\n",
    "models['XGBoost Classifier']= xgbc\n",
    "models['LightGBM Classifier']= lgbmc\n",
    "preds={}\n",
    "for name in models:\n",
    "    models[name].fit(X_train_scaled, y_train)\n",
    "    preds[name] = models[name].predict(X_test_scaled)\n",
    "print(\"Predictions complete.\")"
   ]
  },
  {
   "cell_type": "code",
   "execution_count": 24,
   "id": "8eaab52d",
   "metadata": {
    "execution": {
     "iopub.execute_input": "2022-05-01T17:18:09.768726Z",
     "iopub.status.busy": "2022-05-01T17:18:09.767906Z",
     "iopub.status.idle": "2022-05-01T17:18:09.974506Z",
     "shell.execute_reply": "2022-05-01T17:18:09.972671Z"
    },
    "papermill": {
     "duration": 0.249955,
     "end_time": "2022-05-01T17:18:09.977315",
     "exception": false,
     "start_time": "2022-05-01T17:18:09.727360",
     "status": "completed"
    },
    "tags": []
   },
   "outputs": [
    {
     "name": "stdout",
     "output_type": "stream",
     "text": [
      "************************ SVC Model Testing ************************\n",
      "[[3495   21]\n",
      " [  63 3979]]\n",
      "------------------------\n",
      "              precision    recall  f1-score   support\n",
      "\n",
      "      normal       0.98      0.99      0.99      3516\n",
      "     anamoly       0.99      0.98      0.99      4042\n",
      "\n",
      "    accuracy                           0.99      7558\n",
      "   macro avg       0.99      0.99      0.99      7558\n",
      "weighted avg       0.99      0.99      0.99      7558\n",
      "\n",
      "**************** LogisticRegression Model Testing ****************\n",
      "[[3276  240]\n",
      " [ 177 3865]]\n",
      "----------------\n",
      "              precision    recall  f1-score   support\n",
      "\n",
      "      normal       0.95      0.93      0.94      3516\n",
      "     anamoly       0.94      0.96      0.95      4042\n",
      "\n",
      "    accuracy                           0.94      7558\n",
      "   macro avg       0.95      0.94      0.94      7558\n",
      "weighted avg       0.94      0.94      0.94      7558\n",
      "\n",
      "************** DecisionTreeClassifier Model Testing **************\n",
      "[[3503   13]\n",
      " [  24 4018]]\n",
      "--------------\n",
      "              precision    recall  f1-score   support\n",
      "\n",
      "      normal       0.99      1.00      0.99      3516\n",
      "     anamoly       1.00      0.99      1.00      4042\n",
      "\n",
      "    accuracy                           1.00      7558\n",
      "   macro avg       0.99      1.00      1.00      7558\n",
      "weighted avg       1.00      1.00      1.00      7558\n",
      "\n",
      "********** Gaussian Naive Bayes Classifier Model Testing **********\n",
      "[[3182  334]\n",
      " [ 306 3736]]\n",
      "----------\n",
      "              precision    recall  f1-score   support\n",
      "\n",
      "      normal       0.91      0.91      0.91      3516\n",
      "     anamoly       0.92      0.92      0.92      4042\n",
      "\n",
      "    accuracy                           0.92      7558\n",
      "   macro avg       0.92      0.91      0.91      7558\n",
      "weighted avg       0.92      0.92      0.92      7558\n",
      "\n",
      "********* Bernoulli Naive Bayes Classifier Model Testing *********\n",
      "[[2995  521]\n",
      " [ 223 3819]]\n",
      "---------\n",
      "              precision    recall  f1-score   support\n",
      "\n",
      "      normal       0.93      0.85      0.89      3516\n",
      "     anamoly       0.88      0.94      0.91      4042\n",
      "\n",
      "    accuracy                           0.90      7558\n",
      "   macro avg       0.91      0.90      0.90      7558\n",
      "weighted avg       0.90      0.90      0.90      7558\n",
      "\n",
      "*********** Gradient Boosting Classifier Model Testing ***********\n",
      "[[3498   18]\n",
      " [  15 4027]]\n",
      "-----------\n",
      "              precision    recall  f1-score   support\n",
      "\n",
      "      normal       1.00      0.99      1.00      3516\n",
      "     anamoly       1.00      1.00      1.00      4042\n",
      "\n",
      "    accuracy                           1.00      7558\n",
      "   macro avg       1.00      1.00      1.00      7558\n",
      "weighted avg       1.00      1.00      1.00      7558\n",
      "\n",
      "************* Random Forest Classifier Model Testing *************\n",
      "[[3479   37]\n",
      " [  10 4032]]\n",
      "-------------\n",
      "              precision    recall  f1-score   support\n",
      "\n",
      "      normal       1.00      0.99      0.99      3516\n",
      "     anamoly       0.99      1.00      0.99      4042\n",
      "\n",
      "    accuracy                           0.99      7558\n",
      "   macro avg       0.99      0.99      0.99      7558\n",
      "weighted avg       0.99      0.99      0.99      7558\n",
      "\n",
      "**************** XGBoost Classifier Model Testing ****************\n",
      "[[3507    9]\n",
      " [   5 4037]]\n",
      "----------------\n",
      "              precision    recall  f1-score   support\n",
      "\n",
      "      normal       1.00      1.00      1.00      3516\n",
      "     anamoly       1.00      1.00      1.00      4042\n",
      "\n",
      "    accuracy                           1.00      7558\n",
      "   macro avg       1.00      1.00      1.00      7558\n",
      "weighted avg       1.00      1.00      1.00      7558\n",
      "\n",
      "**************** LightGBM Classifier Model Testing ****************\n",
      "[[3507    9]\n",
      " [  10 4032]]\n",
      "----------------\n",
      "              precision    recall  f1-score   support\n",
      "\n",
      "      normal       1.00      1.00      1.00      3516\n",
      "     anamoly       1.00      1.00      1.00      4042\n",
      "\n",
      "    accuracy                           1.00      7558\n",
      "   macro avg       1.00      1.00      1.00      7558\n",
      "weighted avg       1.00      1.00      1.00      7558\n",
      "\n"
     ]
    }
   ],
   "source": [
    "from sklearn.metrics import confusion_matrix, classification_report, f1_score\n",
    "def line(name,sym=\"*\"):\n",
    "    return sym*(25-len(name)//2)\n",
    "target_names=[\"normal\",\"anamoly\"]\n",
    "for name in models:\n",
    "    print(line(name), name, 'Model Testing', line(name))\n",
    "    print(confusion_matrix(y_test, preds[name]))\n",
    "    print(line(name,'-'))\n",
    "    print(classification_report(y_test, preds[name], target_names=target_names))"
   ]
  },
  {
   "cell_type": "code",
   "execution_count": 25,
   "id": "e2445548",
   "metadata": {
    "execution": {
     "iopub.execute_input": "2022-05-01T17:18:10.061870Z",
     "iopub.status.busy": "2022-05-01T17:18:10.061126Z",
     "iopub.status.idle": "2022-05-01T17:18:10.386628Z",
     "shell.execute_reply": "2022-05-01T17:18:10.385654Z"
    },
    "papermill": {
     "duration": 0.370497,
     "end_time": "2022-05-01T17:18:10.389067",
     "exception": false,
     "start_time": "2022-05-01T17:18:10.018570",
     "status": "completed"
    },
    "tags": []
   },
   "outputs": [
    {
     "data": {
      "text/plain": [
       "<AxesSubplot:>"
      ]
     },
     "execution_count": 25,
     "metadata": {},
     "output_type": "execute_result"
    },
    {
     "data": {
      "image/png": "[encoded data removed]",
      "text/plain": [
       "<Figure size 720x432 with 1 Axes>"
      ]
     },
     "metadata": {
      "needs_background": "light"
     },
     "output_type": "display_data"
    }
   ],
   "source": [
    "f1s = {}\n",
    "for name in models:\n",
    "    f1s[name]=f1_score(y_test, preds[name])\n",
    "f1s=pd.DataFrame(f1s.values(),index=f1s.keys(),columns=[\"F1-score\"])*100\n",
    "f1s.plot(kind = \"bar\",  ylim=[80,100], figsize=(10,6), rot=0)"
   ]
  },
  {
   "cell_type": "code",
   "execution_count": null,
   "id": "0774dda3",
   "metadata": {
    "papermill": {
     "duration": 0.042095,
     "end_time": "2022-05-01T17:18:10.473114",
     "exception": false,
     "start_time": "2022-05-01T17:18:10.431019",
     "status": "completed"
    },
    "tags": []
   },
   "outputs": [],
   "source": []
  }
 ],
 "metadata": {
  "kernelspec": {
   "display_name": "Python 3 (ipykernel)",
   "language": "python",
   "name": "python3"
  },
  "language_info": {
   "codemirror_mode": {
    "name": "ipython",
    "version": 3
   },
   "file_extension": ".py",
   "mimetype": "text/x-python",
   "name": "python",
   "nbconvert_exporter": "python",
   "pygments_lexer": "ipython3",
   "version": "3.9.7"
  },
  "papermill": {
   "default_parameters": {},
   "duration": 178.153438,
   "end_time": "2022-05-01T17:18:11.436251",
   "environment_variables": {},
   "exception": null,
   "input_path": "__notebook__.ipynb",
   "output_path": "__notebook__.ipynb",
   "parameters": {},
   "start_time": "2022-05-01T17:15:13.282813",
   "version": "2.3.4"
  }
 },
 "nbformat": 4,
 "nbformat_minor": 5
}
